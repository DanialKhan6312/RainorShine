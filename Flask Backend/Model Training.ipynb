{
 "cells": [
  {
   "cell_type": "code",
   "execution_count": 37,
   "metadata": {},
   "outputs": [],
   "source": [
    "import tensorflow as tf\n",
    "from tensorflow.keras.models import Sequential\n",
    "from tensorflow.keras.layers import Dense,Dropout,InputLayer\n",
    "from __future__ import absolute_import, division, print_function\n",
    "import os\n",
    "import pandas as pd\n",
    "import matplotlib.pyplot as plt\n",
    "from sklearn import metrics\n",
    "from sklearn.neighbors import KNeighborsClassifier\n",
    "from sklearn.linear_model import LogisticRegression\n",
    "from sklearn.model_selection import train_test_split\n",
    "import pickle\n",
    "import requests"
   ]
  },
  {
   "cell_type": "code",
   "execution_count": 23,
   "metadata": {},
   "outputs": [
    {
     "name": "stdout",
     "output_type": "stream",
     "text": [
      "<class 'pandas.core.frame.DataFrame'>\n",
      "(292, 4)\n",
      "(292,)\n"
     ]
    }
   ],
   "source": [
    "data = pd.read_csv(\"C:\\\\Users\\\\Dania\\\\Documents\\\\datahw.csv\")\n",
    "print (type(data))\n",
    "train, test = train_test_split(data, test_size = 0.2)\n",
    "trainX = train.drop(['rating','wet','label'], axis=1)\n",
    "trainY = train['label']\n",
    "testX = test.drop(['rating','wet','label'], axis=1)\n",
    "testY = test['label']\n",
    "print (trainX.shape)\n",
    "print (trainY.shape)"
   ]
  },
  {
   "cell_type": "code",
   "execution_count": 3,
   "metadata": {},
   "outputs": [
    {
     "data": {
      "image/png": "[encoded data removed]",
      "text/plain": [
       "<Figure size 432x288 with 1 Axes>"
      ]
     },
     "metadata": {
      "needs_background": "light"
     },
     "output_type": "display_data"
    }
   ],
   "source": [
    "k_range = list(range(1,20))\n",
    "scores = []\n",
    "for k in k_range:\n",
    "    knn = KNeighborsClassifier(n_neighbors=k)\n",
    "    knn.fit(trainX, trainY)\n",
    "    y_pred = knn.predict(testX)\n",
    "    scores.append(metrics.accuracy_score(testY, y_pred))\n",
    "plt.plot(k_range, scores)\n",
    "plt.xlabel('Value of k for KNN')\n",
    "plt.ylabel('Accuracy Score')\n",
    "plt.title('Accuracy Scores for Values of k of k-Nearest-Neighbors')\n",
    "plt.show()"
   ]
  },
  {
   "cell_type": "code",
   "execution_count": 15,
   "metadata": {},
   "outputs": [
    {
     "name": "stdout",
     "output_type": "stream",
     "text": [
      "The accuracy of the model is: 0.6301369863013698\n",
      "     Wind Speed  average temperature  precipitation  snow fall\n",
      "284      3.5420            12.500000          0.000       0.00\n",
      "104     17.0499            11.388889          0.000       0.00\n",
      "241     14.2163            28.055556          0.000       0.00\n",
      "319      9.6600            10.833333         45.974       0.00\n",
      "131     20.3343            17.222222          0.000       0.00\n",
      "..          ...                  ...            ...        ...\n",
      "296      2.7531            11.666667          0.000       0.00\n",
      "343      3.4776             1.111111          0.000       0.00\n",
      "351      9.0643            -0.277778         18.542      71.12\n",
      "253     17.6456            27.777778          0.000       0.00\n",
      "261     10.3362            24.444444          0.000       0.00\n",
      "\n",
      "[73 rows x 4 columns]\n",
      "[ 5  5  0 26  2 17  1 12  5  1  7  4  4  1  7  1  1  2  5  1  7 11  4  6\n",
      "  1 14  3  7  1  6  0  2  2  9  2  1 15  1  5  0  7 10 21 26  5  7 15  3\n",
      "  1  1 15  4 15 17 17 11  0  7  5  3  4  5 10  7  6  0  6  2  5  7 47  0\n",
      "  1]\n"
     ]
    },
    {
     "name": "stderr",
     "output_type": "stream",
     "text": [
      "c:\\python\\python38\\lib\\site-packages\\sklearn\\linear_model\\_logistic.py:762: ConvergenceWarning: lbfgs failed to converge (status=1):\n",
      "STOP: TOTAL NO. of ITERATIONS REACHED LIMIT.\n",
      "\n",
      "Increase the number of iterations (max_iter) or scale the data as shown in:\n",
      "    https://scikit-learn.org/stable/modules/preprocessing.html\n",
      "Please also refer to the documentation for alternative solver options:\n",
      "    https://scikit-learn.org/stable/modules/linear_model.html#logistic-regression\n",
      "  n_iter_i = _check_optimize_result(\n"
     ]
    }
   ],
   "source": [
    "model=KNeighborsClassifier(n_neighbors=1) #this examines 3 neighbours for putting the new data into a class\n",
    "model.fit(trainX,trainY)\n",
    "mymod= LogisticRegression()\n",
    "mymod.fit(trainX,trainY)\n",
    "prediction=model.predict(testX)\n",
    "print('The accuracy of the model is:',metrics.accuracy_score(prediction,testY))\n",
    "print (testX)\n",
    "print (prediction)\n",
    "#model.model.save(\"C:\\\\test_model.h5\")"
   ]
  },
  {
   "cell_type": "code",
   "execution_count": 36,
   "metadata": {},
   "outputs": [
    {
     "name": "stdout",
     "output_type": "stream",
     "text": [
      "The accuracy of the model is: 0.0\n",
      "   Wind Speed  average temperature  precipitation  snow fall\n",
      "0          22                  -16              0         23\n",
      "<class 'numpy.ndarray'>\n"
     ]
    }
   ],
   "source": [
    "data2 =pd.read_csv(\"C:\\\\Users\\\\Dania\\\\Documents\\\\Book2.csv\")\n",
    "a=data2.drop(['rating','wet','label'], axis=1)\n",
    "b = data2['label']\n",
    "prediction=model.predict(a)\n",
    "print('The accuracy of the model is:',metrics.accuracy_score(prediction,b))\n",
    "print (a)\n",
    "print (type(prediction))"
   ]
  },
  {
   "cell_type": "code",
   "execution_count": 18,
   "metadata": {},
   "outputs": [],
   "source": [
    "pickle.dump(model, open(\"model.sav\", 'wb'))"
   ]
  },
  {
   "cell_type": "code",
   "execution_count": 33,
   "metadata": {},
   "outputs": [
    {
     "name": "stdout",
     "output_type": "stream",
     "text": [
      "<bound method Response.json of <Response [200]>>\n"
     ]
    }
   ],
   "source": [
    "import requests\n",
    "api_result = requests.get('http://2ff67e2eb722.ngrok.io/weather')\n",
    "print (api_result.json)"
   ]
  },
  {
   "cell_type": "code",
   "execution_count": 50,
   "metadata": {},
   "outputs": [
    {
     "name": "stdout",
     "output_type": "stream",
     "text": [
      "You may be underdressed for the weather also you probably won't need that umbrella\n"
     ]
    }
   ],
   "source": [
    "files = {'pic': open('image2.jpg', 'rb')}\n",
    "f=requests.post('https://4b0fb3c5515f.ngrok.io/image', files=files)\n",
    "print( f.text)"
   ]
  },
  {
   "cell_type": "code",
   "execution_count": null,
   "metadata": {},
   "outputs": [],
   "source": []
  }
 ],
 "metadata": {
  "kernelspec": {
   "display_name": "Python 3",
   "language": "python",
   "name": "python3"
  },
  "language_info": {
   "codemirror_mode": {
    "name": "ipython",
    "version": 3
   },
   "file_extension": ".py",
   "mimetype": "text/x-python",
   "name": "python",
   "nbconvert_exporter": "python",
   "pygments_lexer": "ipython3",
   "version": "3.8.3"
  }
 },
 "nbformat": 4,
 "nbformat_minor": 4
}
